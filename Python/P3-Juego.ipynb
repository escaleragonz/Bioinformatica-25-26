{
 "cells": [
  {
   "cell_type": "markdown",
   "id": "e87fdfc4",
   "metadata": {},
   "source": [
    "# PRACTICA 3  JORGE ESCALERA Y JÚLIA ARNAL\n",
    "\n",
    "\n",
    "## JUEGO DE ADIVINANZAS\n",
    "\n",
    "#### Escribe un programa que coja un número entero del 1 al 100, y los jugadores tienen que tratar de adivinar el número.\n",
    "\n",
    "#### Las reglas son las siguientes:\n",
    "\n",
    "1. Si un jugador escoje un número menor que 1 o mayor que 100, el programa dice \"FUERA DE LÍMITES\"\n",
    "2. En el primer turno del jugador, si está en un rango de 10 del número dice \"¡CALIENTE!\". Si está fuera de ese rango dice \"¡FRIO!\"\n",
    "3. En todas las rondas siguientes, si el jugador se acerca más que la vez anterior, dice \"¡MAS CALIENTE!\". Si está más lejos que la anterior vez dice \"¡MAS FRIO!\"\n",
    "4. Cuando el jugador acierte el número, les dirá que han acertado y cuántos intentos les ha llevado\n",
    "\n",
    "\n",
    "\n"
   ]
  },
  {
   "cell_type": "markdown",
   "id": "1ea418c3",
   "metadata": {},
   "source": [
    "##### PISTAS\n",
    "1. Trata obtener un número aleatorio entre el 1 y el 100\n",
    "2. Haz una introducción de tu juego y explica las reglas\n",
    "3. Crea una lista que almacene los intentos. \n",
    "4. Haz un bucle que evalúe un número. Prueba que funcione primero. While podría ir bien\n",
    "5. Modifica ese bucle para que compare nuestro número con el intento. Si se acierta usa break, si no puedes usar continue y tienes que seguir preguntando al jugador por nuevos intentos"
   ]
  },
  {
   "cell_type": "code",
   "execution_count": null,
   "id": "9d8095d9",
   "metadata": {
    "scrolled": true
   },
   "outputs": [
    {
     "name": "stdout",
     "output_type": "stream",
     "text": [
      "BIENVENIDO A ADIVINA EL NÚMERO\n",
      "Cómo jugar:\n",
      "Escogeré un número del 1 al 100 y tendrás que adivinarlo\n",
      "Si eliges un número que no esté entre el 1 y el 100 escribiré: 'FUERA DE LÍMITES'\n",
      "Si tu número no es entero te recordaré que debe ser entero\n",
      "Si tu primer número está a 10 números o menos del correcto, escribiré: '¡CALIENTE!', si no '¡FRÍO!'\n",
      "En el resto de intentos los compararé con tu último intento: si te acercas escribiré: '¡MÁS CALIENTE!', si te alejas: '¡MÁS FRÍO!'\n",
      "Ganarás el juego cuando adivines el número que estoy pensando\n"
     ]
    }
   ],
   "source": [
    "import random\n",
    "numero_secreto = random.randint(1, 100)\n",
    "\n",
    "def juego_de_adivinanzas():\n",
    "    print(\"BIENVENIDO A ADIVINA EL NÚMERO\")\n",
    "    print(\"Cómo jugar:\")\n",
    "    print(\"Escogeré un número del 1 al 100 y tendrás que adivinarlo\")\n",
    "    print(\"Si eliges un número que no esté entre el 1 y el 100 escribiré: 'FUERA DE LÍMITES'\")\n",
    "    print(\"Si tu número no es entero te recordaré que debe ser entero\")\n",
    "    print(\"Si tu primer número está a 10 números o menos del correcto, escribiré: '¡CALIENTE!', si no '¡FRÍO!'\")\n",
    "    print(\"En el resto de intentos los compararé con tu último intento: si te acercas escribiré: '¡MÁS CALIENTE!', si te alejas: '¡MÁS FRÍO!'\")\n",
    "    print(\"Ganarás el juego cuando adivines el número que estoy pensando\")\n",
    "    intentos = []\n",
    "    \n",
    "    while True:\n",
    "        try:\n",
    "            intento = int(input(\"Escoge un número entre el 1 y el 100: \"))\n",
    "        except ValueError:\n",
    "            print(\"Escoge un número ENTERO entre 1 y 100\")\n",
    "            continue\n",
    "        if intento < 1 or intento > 100:\n",
    "            print(\"FUERA DE LÍMITES\")\n",
    "            continue\n",
    "        intentos.append(intento)\n",
    "\n",
    "        if intento == numero_secreto:\n",
    "            print(f\"¡HAS ACERTADO! El número era {numero_secreto}.\")\n",
    "            print(f\" Has adivinado el número en {len(intentos)} intentos.\")\n",
    "            break\n",
    "        if len(intentos) == 1:\n",
    "            if abs(numero_secreto - intento) <= 10:\n",
    "                print(\"¡CALIENTE!\")\n",
    "            else:\n",
    "                print(\"¡FRÍO!\")\n",
    "        else:\n",
    "            if abs(numero_secreto - intento) < abs(numero_secreto - intentos[-2]):\n",
    "                print(\"¡MÁS CALIENTE!\")\n",
    "            else:\n",
    "                print(\"¡MÁS FRÍO!\")\n",
    "                \n",
    "juego_de_adivinanzas()"
   ]
  }
 ],
 "metadata": {
  "kernelspec": {
   "display_name": "Python 3 (ipykernel)",
   "language": "python",
   "name": "python3"
  },
  "language_info": {
   "codemirror_mode": {
    "name": "ipython",
    "version": 3
   },
   "file_extension": ".py",
   "mimetype": "text/x-python",
   "name": "python",
   "nbconvert_exporter": "python",
   "pygments_lexer": "ipython3",
   "version": "3.13.5"
  }
 },
 "nbformat": 4,
 "nbformat_minor": 5
}
