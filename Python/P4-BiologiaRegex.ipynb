{
 "cells": [
  {
   "cell_type": "markdown",
   "id": "985e6f9b",
   "metadata": {},
   "source": [
    "# PRACTICA 4\n",
    "\n",
    "### Resuelve los siguientes ejercicios"
   ]
  },
  {
   "cell_type": "markdown",
   "id": "28748e51",
   "metadata": {},
   "source": [
    "##### 1.- Abre el fichero dna.txt, guarda una lista del contenido del archivo. Devuelve su longitud y su primer caracter"
   ]
  },
  {
   "cell_type": "code",
   "execution_count": 9,
   "id": "88679bbc",
   "metadata": {},
   "outputs": [
    {
     "name": "stdout",
     "output_type": "stream",
     "text": [
      "Longitud: 123\n",
      "Primer caracter: A\n"
     ]
    }
   ],
   "source": [
    "with open(\"dna.txt\", \"r\") as f:\n",
    "    secuencia = f.read().strip()  \n",
    "\n",
    "dnatxt = list(secuencia)\n",
    "  \n",
    "print(\"Longitud:\", len(dnatxt))\n",
    "print(\"Primer caracter:\", dnatxt[0])"
   ]
  },
  {
   "cell_type": "markdown",
   "id": "9b87396a",
   "metadata": {},
   "source": [
    "##### 2.- Crea dos archivos. Uno almacena los accession que empiezen por 'a' y el otro el resto"
   ]
  },
  {
   "cell_type": "code",
   "execution_count": 3,
   "id": "73957856",
   "metadata": {},
   "outputs": [],
   "source": [
    "accs = ['ab56', 'bh84', 'hv76', 'ay93', 'ap97', 'bd72']"
   ]
  },
  {
   "cell_type": "code",
   "execution_count": 9,
   "id": "8f62bc8f",
   "metadata": {},
   "outputs": [],
   "source": [
    "with open(\"accs_a\",\"w\")as archivo_a, open(\"accs_otros\", \"w\")as archivo_otros:\n",
    "    for numero in accs:\n",
    "        if numero.startswith('a'):\n",
    "            archivo_a.write(numero +'\\n')\n",
    "            \n",
    "        else:\n",
    "            archivo_otros.write(numero +'\\n')"
   ]
  },
  {
   "cell_type": "markdown",
   "id": "9cbb4adf",
   "metadata": {},
   "source": [
    "##### 3.- Imprime solamente los accessions de la lista anterior que empiecen por 'a' y no acaben con '6'. Pista: usa endswith() y startswidth()"
   ]
  },
  {
   "cell_type": "code",
   "execution_count": 10,
   "id": "b32ca419",
   "metadata": {},
   "outputs": [
    {
     "name": "stdout",
     "output_type": "stream",
     "text": [
      "ab56\n"
     ]
    }
   ],
   "source": [
    "for numero in accs:\n",
    "    if numero.endswith('6') and numero.startswith('a'):\n",
    "        print(numero)"
   ]
  },
  {
   "cell_type": "markdown",
   "id": "42c397b0",
   "metadata": {},
   "source": [
    "##### 4.- Escribe una función que cuente el porcentaje de A de una secuencia"
   ]
  },
  {
   "cell_type": "code",
   "execution_count": 49,
   "id": "da633510",
   "metadata": {},
   "outputs": [
    {
     "name": "stdin",
     "output_type": "stream",
     "text": [
      "Introduce tu secuencia: AATCA\n"
     ]
    },
    {
     "name": "stdout",
     "output_type": "stream",
     "text": [
      "60.0\n"
     ]
    }
   ],
   "source": [
    "def porcentaje_A(secuencia):\n",
    "    A = secuencia.count('A')\n",
    "    porcentaje = (A/len(secuencia))*100\n",
    "    return (porcentaje)\n",
    "\n",
    "secuencia = input(\"Introduce tu secuencia:\")\n",
    "print (porcentaje_A(secuencia))"
   ]
  },
  {
   "cell_type": "markdown",
   "id": "054b8f51",
   "metadata": {},
   "source": [
    "##### ¿Puedes hacer que devuelva dos decimales? ¿Y que lidie con mayúsculas y minúsculas?"
   ]
  },
  {
   "cell_type": "code",
   "execution_count": 1,
   "id": "dc1d5907",
   "metadata": {},
   "outputs": [
    {
     "name": "stdin",
     "output_type": "stream",
     "text": [
      "Introduce tu secuencia: agagaggagaggtttta\n"
     ]
    },
    {
     "name": "stdout",
     "output_type": "stream",
     "text": [
      "35.29\n"
     ]
    }
   ],
   "source": [
    "def porcentaje_A(secuencia):\n",
    "    secuencia = secuencia.upper()\n",
    "    A = secuencia.count('A')\n",
    "    porcentaje = (A/len(secuencia))*100\n",
    "    return round(porcentaje, 2)\n",
    "\n",
    "secuencia = input(\"Introduce tu secuencia:\")\n",
    "print (porcentaje_A(secuencia))"
   ]
  },
  {
   "cell_type": "markdown",
   "id": "36a03b5f",
   "metadata": {},
   "source": [
    "##### ¿Y que devuelva el número de decimales que yo quiero?"
   ]
  },
  {
   "cell_type": "code",
   "execution_count": 9,
   "id": "1ac51951",
   "metadata": {},
   "outputs": [
    {
     "name": "stdin",
     "output_type": "stream",
     "text": [
      "Introduce tu secuencia: attatata\n",
      "Indica el número de decimales deseados: 4\n"
     ]
    },
    {
     "name": "stdout",
     "output_type": "stream",
     "text": [
      "50.0000%\n"
     ]
    }
   ],
   "source": [
    "def porcentaje_A(secuencia, decimales):\n",
    "    secuencia = secuencia.upper()\n",
    "    A = secuencia.count('A')\n",
    "    porcentaje = (A/len(secuencia)) * 100\n",
    "    return f\"{porcentaje:.{decimales}f}%\"\n",
    "\n",
    "secuencia = input(\"Introduce tu secuencia:\")\n",
    "decimales = int(input(\"Indica el número de decimales deseados:\"))\n",
    "\n",
    "print(porcentaje_A(secuencia, decimales))"
   ]
  },
  {
   "cell_type": "markdown",
   "id": "2c811d84",
   "metadata": {},
   "source": [
    "##### ¿Sabes poner un valor por defecto en un argumento?"
   ]
  },
  {
   "cell_type": "code",
   "execution_count": 73,
   "id": "60981086",
   "metadata": {},
   "outputs": [
    {
     "name": "stdin",
     "output_type": "stream",
     "text": [
      "Introduce tu secuencia: aaatatatatataggc\n",
      "¿Desea usar dos decimales?: si/no) si\n"
     ]
    },
    {
     "name": "stdout",
     "output_type": "stream",
     "text": [
      "50.00%\n"
     ]
    }
   ],
   "source": [
    "def porcentaje_A(secuencia, decimales=2):\n",
    "    secuencia = secuencia.upper()\n",
    "    A = secuencia.count('A')\n",
    "    porcentaje = (A/len(secuencia)) * 100\n",
    "    return f\"{porcentaje:.{decimales}f}%\"\n",
    "\n",
    "secuencia = input(\"Introduce tu secuencia:\")\n",
    "valor_por_defecto= input(\"¿Desea usar dos decimales?: si/no)\")\n",
    "\n",
    "if valor_por_defecto.lower()=='no':\n",
    "    decimales=int(input(\"Indica el número de decimales deseados:\"))\n",
    "    print(porcentaje_A(secuencia,decimales))\n",
    "else:\n",
    "    print(porcentaje_A(secuencia))\n",
    "\n"
   ]
  },
  {
   "cell_type": "markdown",
   "id": "ab2c106c",
   "metadata": {},
   "source": [
    "##### ¿Qué pasa si no ponemos un argumento? ¿Sabrías hacer una función encapsulada?"
   ]
  },
  {
   "cell_type": "code",
   "execution_count": 42,
   "id": "b155dc1e",
   "metadata": {},
   "outputs": [
    {
     "name": "stdin",
     "output_type": "stream",
     "text": [
      "Introduce tu secuencia: atgagctcgactagctgggg\n",
      "¿Desea usar dos decimales?: si/no) no\n",
      "Indica el número de decimales deseados: 3\n"
     ]
    },
    {
     "name": "stdout",
     "output_type": "stream",
     "text": [
      "5.000%\n"
     ]
    }
   ],
   "source": [
    "def porcentaje_A(secuencia, decimales=2):\n",
    "    secuencia = secuencia.upper()\n",
    "    def cálculo(resultado):\n",
    "        return(secuencia.count(secuencia)/len(secuencia)*100)\n",
    "    porcentaje = cálculo(secuencia)\n",
    "    return f\"{porcentaje:.{decimales}f}%\"\n",
    "        \n",
    "secuencia = input(\"Introduce tu secuencia:\")\n",
    "valor_por_defecto= input(\"¿Desea usar dos decimales?: si/no)\")\n",
    "\n",
    "if valor_por_defecto.lower()=='no':\n",
    "    decimales=int(input(\"Indica el número de decimales deseados:\"))\n",
    "    print(porcentaje_A(secuencia,decimales))\n",
    "else:\n",
    "    print(porcentaje_A(secuencia))\n"
   ]
  },
  {
   "cell_type": "markdown",
   "id": "83af4b0f",
   "metadata": {},
   "source": [
    "##### Testea tu función original con assert"
   ]
  },
  {
   "cell_type": "code",
   "execution_count": 75,
   "id": "fdbba0f2-32cf-4c1a-92be-fb8df739c7f3",
   "metadata": {},
   "outputs": [
    {
     "name": "stdin",
     "output_type": "stream",
     "text": [
      "Introduce tu secuencia: aatatatacccatg\n",
      "¿Desea usar dos decimales?: si/no) no\n",
      "Indica el número de decimales deseados: 3\n"
     ]
    },
    {
     "name": "stdout",
     "output_type": "stream",
     "text": [
      "42.857%\n",
      "Test superado\n"
     ]
    }
   ],
   "source": [
    "def porcentaje_A(secuencia, decimales=2):\n",
    "    secuencia = secuencia.upper()\n",
    "    A = secuencia.count('A')\n",
    "    porcentaje = (A/len(secuencia)) * 100\n",
    "    return f\"{porcentaje:.{decimales}f}%\"\n",
    "\n",
    "secuencia = input(\"Introduce tu secuencia:\")\n",
    "valor_por_defecto= input(\"¿Desea usar dos decimales?: si/no)\")\n",
    "\n",
    "if valor_por_defecto.lower()=='no':\n",
    "    decimales=int(input(\"Indica el número de decimales deseados:\"))\n",
    "    print(porcentaje_A(secuencia,decimales))\n",
    "else:\n",
    "    print(porcentaje_A(secuencia))\n",
    "    \n",
    "assert porcentaje_A(\"AATT\") == \"50.00%\", \"Error: no detecta el porcentaje correcto\"\n",
    "assert porcentaje_A(\"AAAA\") == \"100.00%\", \"Error al calcular el porcentaje del 100%\"\n",
    "assert porcentaje_A(\"TTTT\") == \"0.00%\", \"Error al calcular porcentaje de 0%\"\n",
    "assert porcentaje_A(\"aatt\") == \"50.00%\", \"Error: minúsculas no detectadas\"\n",
    "assert porcentaje_A(\"AATT\", 1) == \"50.0%\", \"Error en los decimales deseados\"\n",
    "\n",
    "print(\"Test superado\")"
   ]
  },
  {
   "cell_type": "markdown",
   "id": "991abaa2",
   "metadata": {},
   "source": [
    "#### 5.- De la lista de accessions que se proporciona obtén lo siguiente:\n",
    "1. Los que tengan el número 5\n",
    "2. Los que tengan la letra 'd' o la 'e'\n",
    "3. Los que tengan las letras 'd' y 'e' en ese orden\n",
    "4. Los que tengan las letras 'd' y 'e' en ese orden con una letra cualquiera en medio\n",
    "5. Los que tengan ambas letras 'd' y 'e' en cualquier orden\n",
    "6. Los que empiezan por 'x' o por 'y'\n",
    "7. Los que empiezan por 'x' o 'y' y terminan por 'e'\n",
    "8. Los que tienen tres o más dígitos seguidos\n",
    "9. Los que terminan con 'd' seguidos de 'a' o 'r' o 'p'"
   ]
  },
  {
   "cell_type": "code",
   "execution_count": 27,
   "id": "6388ac75",
   "metadata": {},
   "outputs": [],
   "source": [
    "import re"
   ]
  },
  {
   "cell_type": "code",
   "execution_count": 28,
   "id": "d00d3ce7",
   "metadata": {},
   "outputs": [],
   "source": [
    "accs = ['xkn59438', 'yhdck2', 'eihd39d9', 'chdsye847', 'hedle3455', 'xjhd53e', '45da', 'de37dp']"
   ]
  },
  {
   "cell_type": "code",
   "execution_count": 61,
   "id": "8204ee2b-4bfc-41ce-907d-277e2fcc337f",
   "metadata": {},
   "outputs": [
    {
     "name": "stdout",
     "output_type": "stream",
     "text": [
      "['xkn59438', 'hedle3455', 'xjhd53e', '45da']\n"
     ]
    }
   ],
   "source": [
    "numero5 = [a for a in accs if \"5\" in a]\n",
    "print(numero5)"
   ]
  },
  {
   "cell_type": "code",
   "execution_count": 60,
   "id": "da6524e0-b767-44b2-98f3-4454bda7b260",
   "metadata": {},
   "outputs": [
    {
     "name": "stdout",
     "output_type": "stream",
     "text": [
      "['yhdck2', 'eihd39d9', 'chdsye847', 'hedle3455', 'xjhd53e', '45da', 'de37dp']\n"
     ]
    }
   ],
   "source": [
    "de = [a for a in accs if re.search(r\"[de]\", a)]\n",
    "print(de)"
   ]
  },
  {
   "cell_type": "code",
   "execution_count": 62,
   "id": "03e464ca-a3c8-4956-a0b5-e9a1ea86abec",
   "metadata": {},
   "outputs": [
    {
     "name": "stdout",
     "output_type": "stream",
     "text": [
      "['chdsye847', 'hedle3455', 'xjhd53e', 'de37dp']\n"
     ]
    }
   ],
   "source": [
    "d_y_e_ordenados = [a for a in accs if re.search(r\"d.*e\", a)]\n",
    "print(d_y_e_ordenados)"
   ]
  },
  {
   "cell_type": "code",
   "execution_count": 65,
   "id": "47765530-19d5-4b25-9718-a7909ea05521",
   "metadata": {},
   "outputs": [
    {
     "name": "stdout",
     "output_type": "stream",
     "text": [
      "['hedle3455']\n"
     ]
    }
   ],
   "source": [
    "d_letra_e = [a for a in accs if re.search(r\"d.e\", a)]\n",
    "print(d_letra_e)"
   ]
  },
  {
   "cell_type": "code",
   "execution_count": 67,
   "id": "cb4f1680-ecc1-49c3-9cc6-60a6f9de2eab",
   "metadata": {},
   "outputs": [
    {
     "name": "stdout",
     "output_type": "stream",
     "text": [
      "['eihd39d9', 'chdsye847', 'hedle3455', 'xjhd53e', 'de37dp']\n"
     ]
    }
   ],
   "source": [
    "d_y_e = [a for a in accs if re.search(r\"d\", a) and re.search(r\"e\", a)]\n",
    "print(d_y_e)"
   ]
  },
  {
   "cell_type": "code",
   "execution_count": 68,
   "id": "e6ef5cbb-e7a2-4356-8482-45e417598779",
   "metadata": {},
   "outputs": [
    {
     "name": "stdout",
     "output_type": "stream",
     "text": [
      "['xkn59438', 'yhdck2', 'xjhd53e']\n"
     ]
    }
   ],
   "source": [
    "empiezan_x_o_y = [a for a in accs if re.match(r\"^[xy]\", a)]\n",
    "print(empiezan_x_o_y)"
   ]
  },
  {
   "cell_type": "code",
   "execution_count": 69,
   "id": "426ab753-5360-440a-a1be-14a676c94e90",
   "metadata": {},
   "outputs": [
    {
     "name": "stdout",
     "output_type": "stream",
     "text": [
      "['xjhd53e']\n"
     ]
    }
   ],
   "source": [
    "xoy_e = [a for a in accs if re.match(r\"^[xy].*e$\", a)]\n",
    "print(xoy_e)"
   ]
  },
  {
   "cell_type": "code",
   "execution_count": 70,
   "id": "3d9ce618-4c0f-4616-9731-900427d36eb7",
   "metadata": {},
   "outputs": [
    {
     "name": "stdout",
     "output_type": "stream",
     "text": [
      "['xkn59438', 'chdsye847', 'hedle3455']\n"
     ]
    }
   ],
   "source": [
    "tres_o_mas_digitos = [a for a in accs if re.search(r\"\\d{3,}\", a)]\n",
    "print(tres_o_mas_digitos)"
   ]
  },
  {
   "cell_type": "code",
   "execution_count": 72,
   "id": "506a9eaf-a290-49bb-aa31-1f4720fe6476",
   "metadata": {},
   "outputs": [
    {
     "name": "stdout",
     "output_type": "stream",
     "text": [
      "['45da', 'de37dp']\n"
     ]
    }
   ],
   "source": [
    "terminan_d_y_arp = [a for a in accs if re.search(r\"d[arp]$\", a)]\n",
    "print(terminan_d_y_arp)"
   ]
  }
 ],
 "metadata": {
  "kernelspec": {
   "display_name": "Python 3 (ipykernel)",
   "language": "python",
   "name": "python3"
  },
  "language_info": {
   "codemirror_mode": {
    "name": "ipython",
    "version": 3
   },
   "file_extension": ".py",
   "mimetype": "text/x-python",
   "name": "python",
   "nbconvert_exporter": "python",
   "pygments_lexer": "ipython3",
   "version": "3.13.5"
  }
 },
 "nbformat": 4,
 "nbformat_minor": 5
}
