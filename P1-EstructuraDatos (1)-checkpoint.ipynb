{
 "cells": [
  {
   "cell_type": "markdown",
   "id": "57e5a4ba",
   "metadata": {},
   "source": [
    "# PRACTICA 1\n",
    "\n",
    "### Resuelve las siguientes preguntas empleando lo aprendido con las estructuras de Datos"
   ]
  },
  {
   "cell_type": "markdown",
   "id": "092831f1",
   "metadata": {},
   "source": [
    "Pon el código debajo de cada pregunta. Añade tantas celdas de código como necesites."
   ]
  },
  {
   "cell_type": "markdown",
   "id": "94b6abb8",
   "metadata": {},
   "source": [
    "#### 1.- Escribe una ecuación que emplee multiplicación, división, un exponente, suma y resta y que sea igual a 100.25. (0,25 ptos)"
   ]
  },
  {
   "cell_type": "code",
   "execution_count": 1,
   "id": "4e5e660a",
   "metadata": {},
   "outputs": [
    {
     "data": {
      "text/plain": [
       "100.25"
      ]
     },
     "execution_count": 1,
     "metadata": {},
     "output_type": "execute_result"
    }
   ],
   "source": [
    "(2*5)**2+2/4-0.25"
   ]
  },
  {
   "cell_type": "markdown",
   "id": "95ec00dc",
   "metadata": {},
   "source": [
    "#### 2.- ¿Qué harías para obtener la raíz cuadrada de 100? Busca dos formas. (0,5 ptos)"
   ]
  },
  {
   "cell_type": "code",
   "execution_count": 2,
   "id": "d1476ef0",
   "metadata": {},
   "outputs": [
    {
     "data": {
      "text/plain": [
       "10.0"
      ]
     },
     "execution_count": 2,
     "metadata": {},
     "output_type": "execute_result"
    }
   ],
   "source": [
    "100**0.5\n",
    "100**(1/2)\n"
   ]
  },
  {
   "cell_type": "markdown",
   "id": "95232620",
   "metadata": {},
   "source": [
    "#### 3.- ¿Y el cuadrado de 100? (0,25 ptos)"
   ]
  },
  {
   "cell_type": "code",
   "execution_count": 3,
   "id": "14249667",
   "metadata": {},
   "outputs": [
    {
     "data": {
      "text/plain": [
       "10000"
      ]
     },
     "execution_count": 3,
     "metadata": {},
     "output_type": "execute_result"
    }
   ],
   "source": [
    "100**2"
   ]
  },
  {
   "cell_type": "markdown",
   "id": "7fc5bfae",
   "metadata": {},
   "source": [
    "#### 4.- Tenemos la string 'hello'. (0,5 ptos)\n",
    "#### Primero devuelve la letra 'e'\n",
    "#### Luego dale la vuelta a la string \n",
    "#### Después usa dos métodos para devolver la letra 'o'"
   ]
  },
  {
   "cell_type": "code",
   "execution_count": 4,
   "id": "a6d0eb90",
   "metadata": {},
   "outputs": [],
   "source": [
    "s = 'hello'"
   ]
  },
  {
   "cell_type": "code",
   "execution_count": 5,
   "id": "a3f33800",
   "metadata": {},
   "outputs": [
    {
     "data": {
      "text/plain": [
       "'e'"
      ]
     },
     "execution_count": 5,
     "metadata": {},
     "output_type": "execute_result"
    }
   ],
   "source": [
    "s[1]"
   ]
  },
  {
   "cell_type": "code",
   "execution_count": 6,
   "id": "b8e79e06-a3ef-43de-aadf-a1562163a7e0",
   "metadata": {
    "scrolled": true
   },
   "outputs": [
    {
     "data": {
      "text/plain": [
       "'olleh'"
      ]
     },
     "execution_count": 6,
     "metadata": {},
     "output_type": "execute_result"
    }
   ],
   "source": [
    "s [::-1]"
   ]
  },
  {
   "cell_type": "code",
   "execution_count": 7,
   "id": "bd29c3f9-ed31-4b1c-8fd3-1698c682c289",
   "metadata": {},
   "outputs": [
    {
     "data": {
      "text/plain": [
       "'o'"
      ]
     },
     "execution_count": 7,
     "metadata": {},
     "output_type": "execute_result"
    }
   ],
   "source": [
    "s [4]"
   ]
  },
  {
   "cell_type": "code",
   "execution_count": 8,
   "id": "041f011b-f604-40cb-8c99-858eda966149",
   "metadata": {},
   "outputs": [
    {
     "data": {
      "text/plain": [
       "'o'"
      ]
     },
     "execution_count": 8,
     "metadata": {},
     "output_type": "execute_result"
    }
   ],
   "source": [
    "s [-1]\n"
   ]
  },
  {
   "cell_type": "markdown",
   "id": "0febc918",
   "metadata": {},
   "source": [
    "#### 5.- Crear una lista que contenga esto [0,0,0] de dos formas distintas (0,5 ptos)"
   ]
  },
  {
   "cell_type": "code",
   "execution_count": 9,
   "id": "30981b24",
   "metadata": {},
   "outputs": [],
   "source": [
    "mi_lista = [0,0,0]"
   ]
  },
  {
   "cell_type": "code",
   "execution_count": 11,
   "id": "8d3cf63b-1c30-45b5-a57e-254a6ddb85a4",
   "metadata": {},
   "outputs": [
    {
     "data": {
      "text/plain": [
       "[0, 0, 0]"
      ]
     },
     "execution_count": 11,
     "metadata": {},
     "output_type": "execute_result"
    }
   ],
   "source": [
    "mi_lista = [1-1,2-2,3-3] \n",
    "mi_lista"
   ]
  },
  {
   "cell_type": "markdown",
   "id": "80e1a951",
   "metadata": {},
   "source": [
    "#### 6.- Reasigna 'hello' en la lista a continuación para que diga 'goodbye' (1 pto)"
   ]
  },
  {
   "cell_type": "code",
   "execution_count": 21,
   "id": "20d1ebdf",
   "metadata": {},
   "outputs": [],
   "source": [
    "lista = [1,2,[3,4,'hello']]"
   ]
  },
  {
   "cell_type": "code",
   "execution_count": 23,
   "id": "e9eb03ae",
   "metadata": {},
   "outputs": [
    {
     "data": {
      "text/plain": [
       "[1, 2, [3, 4]]"
      ]
     },
     "execution_count": 23,
     "metadata": {},
     "output_type": "execute_result"
    }
   ],
   "source": [
    "lista[2].pop()\n",
    "lista"
   ]
  },
  {
   "cell_type": "code",
   "execution_count": 24,
   "id": "462cec91-1e18-40e1-9f83-e3cc98f69fb8",
   "metadata": {},
   "outputs": [
    {
     "data": {
      "text/plain": [
       "[1, 2, [3, 4, 'goodbye']]"
      ]
     },
     "execution_count": 24,
     "metadata": {},
     "output_type": "execute_result"
    }
   ],
   "source": [
    "lista[2].append('goodbye')\n",
    "lista"
   ]
  },
  {
   "cell_type": "markdown",
   "id": "77e38490",
   "metadata": {},
   "source": [
    "#### 7.- Ordena la siguiente lista (0,5 ptos)"
   ]
  },
  {
   "cell_type": "code",
   "execution_count": 26,
   "id": "bc957d55",
   "metadata": {},
   "outputs": [],
   "source": [
    "listaSinOrdenar = [5,3,4,6,1]"
   ]
  },
  {
   "cell_type": "code",
   "execution_count": 27,
   "id": "e2c2fb65",
   "metadata": {},
   "outputs": [
    {
     "data": {
      "text/plain": [
       "[1, 3, 4, 5, 6]"
      ]
     },
     "execution_count": 27,
     "metadata": {},
     "output_type": "execute_result"
    }
   ],
   "source": [
    "listaSinOrdenar.sort()\n",
    "listaSinOrdenar"
   ]
  },
  {
   "cell_type": "markdown",
   "id": "0cc790ac",
   "metadata": {},
   "source": [
    "#### 8.- En los siguientes diccionarios, extrae el valor de 'hello (2 ptos)"
   ]
  },
  {
   "cell_type": "code",
   "execution_count": 44,
   "id": "c390a0bb",
   "metadata": {},
   "outputs": [],
   "source": [
    "f = {'k1':{'k2':'hello'}}"
   ]
  },
  {
   "cell_type": "code",
   "execution_count": 42,
   "id": "4cdcd16e",
   "metadata": {},
   "outputs": [
    {
     "data": {
      "text/plain": [
       "{'k2': 'hello'}"
      ]
     },
     "execution_count": 42,
     "metadata": {},
     "output_type": "execute_result"
    }
   ],
   "source": [
    "f['k1']"
   ]
  },
  {
   "cell_type": "code",
   "execution_count": 46,
   "id": "7b875cde-5372-432e-b17f-1da64e1061fa",
   "metadata": {},
   "outputs": [
    {
     "data": {
      "text/plain": [
       "'hello'"
      ]
     },
     "execution_count": 46,
     "metadata": {},
     "output_type": "execute_result"
    }
   ],
   "source": [
    "f['k1']['k2']"
   ]
  },
  {
   "cell_type": "code",
   "execution_count": 47,
   "id": "c0244e1f",
   "metadata": {},
   "outputs": [],
   "source": [
    "d = {'key1':'hello'}"
   ]
  },
  {
   "cell_type": "code",
   "execution_count": 48,
   "id": "196ef04c",
   "metadata": {},
   "outputs": [
    {
     "data": {
      "text/plain": [
       "'hello'"
      ]
     },
     "execution_count": 48,
     "metadata": {},
     "output_type": "execute_result"
    }
   ],
   "source": [
    "d['key1']"
   ]
  },
  {
   "cell_type": "code",
   "execution_count": 65,
   "id": "344d780b",
   "metadata": {},
   "outputs": [],
   "source": [
    "g = {'k1':[{'o1':['valor escondido',['hello']]}]}"
   ]
  },
  {
   "cell_type": "code",
   "execution_count": 66,
   "id": "e965a858",
   "metadata": {},
   "outputs": [
    {
     "data": {
      "text/plain": [
       "[{'o1': ['valor escondido', ['hello']]}]"
      ]
     },
     "execution_count": 66,
     "metadata": {},
     "output_type": "execute_result"
    }
   ],
   "source": [
    "g['k1']"
   ]
  },
  {
   "cell_type": "code",
   "execution_count": 68,
   "id": "c2afce14-95ee-4b22-b16e-56c0bf10a8ed",
   "metadata": {},
   "outputs": [
    {
     "data": {
      "text/plain": [
       "'hello'"
      ]
     },
     "execution_count": 68,
     "metadata": {},
     "output_type": "execute_result"
    }
   ],
   "source": [
    "g['k1'][0]['o1'][1][0]"
   ]
  },
  {
   "cell_type": "code",
   "execution_count": 72,
   "id": "663f9ffd",
   "metadata": {},
   "outputs": [],
   "source": [
    "h = {'k1':[1,2,{'k2':['complicado',{'dificil':[1,2,['hello']]}]}]}"
   ]
  },
  {
   "cell_type": "code",
   "execution_count": 82,
   "id": "9b9d7d97",
   "metadata": {},
   "outputs": [
    {
     "data": {
      "text/plain": [
       "'hello'"
      ]
     },
     "execution_count": 82,
     "metadata": {},
     "output_type": "execute_result"
    }
   ],
   "source": [
    "h['k1'][2]['k2'][1]['dificil'][2][0]"
   ]
  },
  {
   "cell_type": "markdown",
   "id": "7692eea8",
   "metadata": {},
   "source": [
    "#### 9.- Crea una tupla (1 pto)"
   ]
  },
  {
   "cell_type": "code",
   "execution_count": 84,
   "id": "23886da1",
   "metadata": {},
   "outputs": [
    {
     "data": {
      "text/plain": [
       "3"
      ]
     },
     "execution_count": 84,
     "metadata": {},
     "output_type": "execute_result"
    }
   ],
   "source": [
    "t =(1,2,3)\n",
    "len(t)"
   ]
  },
  {
   "cell_type": "code",
   "execution_count": 85,
   "id": "69d84b4a-1257-48bb-bce6-00715ba50d0c",
   "metadata": {},
   "outputs": [
    {
     "data": {
      "text/plain": [
       "tuple"
      ]
     },
     "execution_count": 85,
     "metadata": {},
     "output_type": "execute_result"
    }
   ],
   "source": [
    "type(t)"
   ]
  },
  {
   "cell_type": "markdown",
   "id": "6231d723",
   "metadata": {},
   "source": [
    "#### 10.- Emplea los sets para encontrar los valores únicos de esta lista (0,5 ptos)"
   ]
  },
  {
   "cell_type": "code",
   "execution_count": 89,
   "id": "a7cbba3a",
   "metadata": {},
   "outputs": [],
   "source": [
    "listaDuplicada = [1,2,2,33,4,4,11,22,3,3,2]"
   ]
  },
  {
   "cell_type": "code",
   "execution_count": 90,
   "id": "71da8284",
   "metadata": {},
   "outputs": [
    {
     "data": {
      "text/plain": [
       "{1, 2, 3, 4, 11, 22, 33}"
      ]
     },
     "execution_count": 90,
     "metadata": {},
     "output_type": "execute_result"
    }
   ],
   "source": [
    "set(listaDuplicada)"
   ]
  },
  {
   "cell_type": "markdown",
   "id": "9b217cfc",
   "metadata": {},
   "source": [
    "#### 11.- Haz las siguientes comparaciones: (0,5 ptos)\n",
    "#### Dos mayor que tres\n",
    "#### Tres igual que 2\n",
    "#### La raíz cuadrada de cuatro no es igual a 2\n",
    "#### Se cumple si 6 es mayor que 5 y 7 menor de 8\n",
    "#### Se cumple si la longitud de _nombre_ es  que el número de elementos de _colores_ o si la longitud de _nombre_ es menor de 7."
   ]
  },
  {
   "cell_type": "code",
   "execution_count": 91,
   "id": "59b70e21",
   "metadata": {},
   "outputs": [
    {
     "data": {
      "text/plain": [
       "False"
      ]
     },
     "execution_count": 91,
     "metadata": {},
     "output_type": "execute_result"
    }
   ],
   "source": [
    "# 2 mayor que 3\n",
    "2>3"
   ]
  },
  {
   "cell_type": "code",
   "execution_count": 96,
   "id": "89985eaf",
   "metadata": {},
   "outputs": [
    {
     "data": {
      "text/plain": [
       "False"
      ]
     },
     "execution_count": 96,
     "metadata": {},
     "output_type": "execute_result"
    }
   ],
   "source": [
    "# 3 igual que 2\n",
    "3==2"
   ]
  },
  {
   "cell_type": "code",
   "execution_count": 97,
   "id": "16c4febf",
   "metadata": {},
   "outputs": [
    {
     "data": {
      "text/plain": [
       "False"
      ]
     },
     "execution_count": 97,
     "metadata": {},
     "output_type": "execute_result"
    }
   ],
   "source": [
    "# raíz cuadrada de 4 no es igual a 2\n",
    "4**0.5!= 2"
   ]
  },
  {
   "cell_type": "code",
   "execution_count": 99,
   "id": "3aea9377-1009-4fd2-babf-ab8023c3b069",
   "metadata": {},
   "outputs": [
    {
     "data": {
      "text/plain": [
       "True"
      ]
     },
     "execution_count": 99,
     "metadata": {},
     "output_type": "execute_result"
    }
   ],
   "source": [
    "# 6 es mayor que 5 y 7 menor que 8\n",
    "6>5 and 7<8"
   ]
  },
  {
   "cell_type": "code",
   "execution_count": 98,
   "id": "e5ed7361-8611-4c1f-bebe-4f4247800baa",
   "metadata": {},
   "outputs": [
    {
     "data": {
      "text/plain": [
       "True"
      ]
     },
     "execution_count": 98,
     "metadata": {},
     "output_type": "execute_result"
    }
   ],
   "source": [
    "nombre = \"Pepito\"\n",
    "colores = [\"azul\",\"rojo\",\"verde\",\"lila\",\"amarillo limón\"]\n",
    "len(nombre)==len(colores) or len(nombre)<7"
   ]
  },
  {
   "cell_type": "markdown",
   "id": "bc1471d1-0d87-4c9d-8a0f-e2d735f2c764",
   "metadata": {},
   "source": [
    "#### 12.- Crea un archivo mediante código que se llame _tabla-nombres.txt_ y que esté formado por 4 columnas y 4 filas con la siguiente formación (1,5 ptos):\n",
    "#### Primera columna: Nombre\n",
    "#### Segunda columna: Apellidos (2 apellidos)\n",
    "#### Tercera columna: Edad\n",
    "#### Cuarta columna: Mascotas (nombre de la mascota si tienen)\n",
    "\n",
    "#### ¿Qué pasa si abres el archivo desde Jupyter y has metido acentos? ¿Puedes solucionarlo?"
   ]
  },
  {
   "cell_type": "code",
   "execution_count": 103,
   "id": "1ce5ecc5-05c2-41ee-8080-6270258a1d88",
   "metadata": {},
   "outputs": [
    {
     "data": {
      "text/plain": [
       "23"
      ]
     },
     "execution_count": 103,
     "metadata": {},
     "output_type": "execute_result"
    }
   ],
   "source": [
    "mi_archivo=open('tabla-nombres.txt', 'a+')\n",
    "mi_archivo.write('esta es una línea nueva')"
   ]
  },
  {
   "cell_type": "markdown",
   "id": "acfdde50-7f35-499e-b8dc-f8246dfaefb3",
   "metadata": {},
   "source": [
    "#### 13.- Crea un diccionario que contenga las siguientes parejas. Obtén el listado de keys() y guárdalo en una lista. Añade un par de elementos más y después convierte esa lista en un set (1 pto).\n",
    "\n",
    "#### Rattus = novergicus, rattus\n",
    "#### Glaucidium = brasilianum, hoskinsii, californicum, minutissimum\n",
    "#### Echinocactus = grusonii\n",
    "#### Opuntia = 1\n"
   ]
  },
  {
   "cell_type": "code",
   "execution_count": 104,
   "id": "c92024a1-08cf-4ca9-9d8e-40402909e024",
   "metadata": {},
   "outputs": [
    {
     "ename": "NameError",
     "evalue": "name 'Rattus' is not defined",
     "output_type": "error",
     "traceback": [
      "\u001b[1;31m---------------------------------------------------------------------------\u001b[0m",
      "\u001b[1;31mNameError\u001b[0m                                 Traceback (most recent call last)",
      "Cell \u001b[1;32mIn[104], line 1\u001b[0m\n\u001b[1;32m----> 1\u001b[0m my_dict\u001b[38;5;241m=\u001b[39m {Rattus, novergicus, glaucidium, brasilianum, hoskinsii, californicum, minutisiimum, echinocactus, grusonii, opunta}\n",
      "\u001b[1;31mNameError\u001b[0m: name 'Rattus' is not defined"
     ]
    }
   ],
   "source": [
    "my_dict= {Rattus, novergicus, glaucidium, brasilianum, hoskinsii, californicum, minutisiimum, echinocactus, grusonii, opunta}"
   ]
  },
  {
   "cell_type": "code",
   "execution_count": null,
   "id": "a83d4650-5e69-46cf-8f50-3c6be32e5d44",
   "metadata": {},
   "outputs": [],
   "source": []
  }
 ],
 "metadata": {
  "kernelspec": {
   "display_name": "Python 3 (ipykernel)",
   "language": "python",
   "name": "python3"
  },
  "language_info": {
   "codemirror_mode": {
    "name": "ipython",
    "version": 3
   },
   "file_extension": ".py",
   "mimetype": "text/x-python",
   "name": "python",
   "nbconvert_exporter": "python",
   "pygments_lexer": "ipython3",
   "version": "3.13.5"
  }
 },
 "nbformat": 4,
 "nbformat_minor": 5
}
